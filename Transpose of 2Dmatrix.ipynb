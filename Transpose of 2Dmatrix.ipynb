{
 "cells": [
  {
   "cell_type": "code",
   "execution_count": 1,
   "metadata": {},
   "outputs": [
    {
     "name": "stdout",
     "output_type": "stream",
     "text": [
      "Enter the number of rows:3\n",
      "Enter the number of columns:2\n",
      "*************************************\n",
      "Enter the entries(Row-wise):\n",
      "12\n",
      "7\n",
      "89\n",
      "6\n",
      "5\n",
      "3\n",
      "12 7 \n",
      "89 6 \n",
      "5 3 \n",
      "The transpose of the matrix :\n",
      "[12, 89, 5]\n",
      "[7, 6, 3]\n"
     ]
    }
   ],
   "source": [
    "Rows = int(input(\"Enter the number of rows:\")) \n",
    "Columns = int(input(\"Enter the number of columns:\")) \n",
    "print(\"*************************************\")\n",
    "\n",
    "matrix = [] \n",
    "print(\"Enter the entries(Row-wise):\") \n",
    "\n",
    "for i in range(Rows):\n",
    "\ta =[] \n",
    "\tfor j in range(Columns):\n",
    "\t\ta.append(int(input())) \n",
    "\tmatrix.append(a) \n",
    "\n",
    "for i in range(Rows): \n",
    "\tfor j in range(Columns): \n",
    "\t\tprint(matrix[i][j], end = \" \") \n",
    "\tprint()\n",
    "print(\"The transpose of the matrix :\")\n",
    "\n",
    "X = matrix\n",
    "\n",
    "result = [[0,0,0],\n",
    "         [0,0,0]]\n",
    "\n",
    "for i in range(len(X)):\n",
    "   for j in range(len(X[0])):\n",
    "       result[j][i] = X[i][j]\n",
    "\n",
    "for r in result:\n",
    "    print(r)"
   ]
  },
  {
   "cell_type": "code",
   "execution_count": null,
   "metadata": {},
   "outputs": [],
   "source": []
  }
 ],
 "metadata": {
  "kernelspec": {
   "display_name": "Python 3",
   "language": "python",
   "name": "python3"
  },
  "language_info": {
   "codemirror_mode": {
    "name": "ipython",
    "version": 3
   },
   "file_extension": ".py",
   "mimetype": "text/x-python",
   "name": "python",
   "nbconvert_exporter": "python",
   "pygments_lexer": "ipython3",
   "version": "3.6.10"
  }
 },
 "nbformat": 4,
 "nbformat_minor": 4
}
